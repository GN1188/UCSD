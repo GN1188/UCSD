{
 "cells": [
  {
   "cell_type": "markdown",
   "metadata": {
    "id": "9MMoEomXh5BU"
   },
   "source": [
    "**Copyright: © NexStream Technical Education, LLC**.  \n",
    "All rights reserved"
   ]
  },
  {
   "cell_type": "markdown",
   "metadata": {
    "id": "Sv_MfXGUQsy5"
   },
   "source": [
    "#Polynomial Linear Regression\n",
    "\n",
    "In this project, you will perform a calculation of the coefficients used in a polynomial linear regression model for a given dataset.\n",
    "Please reference the video lectures on Polynomial Linear Regression for a description of the algorithm and the main functions you will need in the implementation.\n",
    "Please complete the following steps in your Colab Script.  The reference script below provides template code and hints to help with each step.  You will be turning in code and screenshots of your console output in an accompanying assignment.\n",
    "\n",
    "- **Step 1**:  Upload the dataset file weatherDataP.csv file to your Google Drive.\n",
    "Mount your drive and change to the folder.   \n",
    "Note if get ERROR:root:Internal Python error in the inspect module error when trying to mount drive, restart runtime\n",
    "- **Step 2**:   Create a Pandas table called 'weather' and read the dataset (weatherDataP.csv).  \n",
    "Print out the first several rows.  \n",
    "Hint: https://pandas.pydata.org/pandas-docs/stable/reference/api/pandas.read_csv.html  \n",
    "Hint: https://pandas.pydata.org/pandas-docs/stable/reference/api/pandas.DataFrame.head.html   \n",
    "Hint: https://pandas.pydata.org/docs/reference/api/pandas.DataFrame.describe.html  \n",
    "\n",
    "- **Step 3**:  Read in the data feature independent variables (X), and the dependent variable Humidity (y) from your Pandas 'weather' table.  \n",
    "- **Step 4**:  Examine the data (Humidity vs. Pressure) with Matplotlib. You will need to upload a screenshot of the plot in the accompanying assignment.\n",
    "- **Step 5**:\n",
    " Create a function *def polyRegression(n):* that generates a polynomial regression model for the input dataset.   \n",
    "Your function must input the degree of the fit function (n)  \n",
    "Your function must return a tuple of the following outputs IN THIS ORDER:  \n",
    "polynomial coefficients,  \n",
    "polynomial intercept,  \n",
    "r-squared score between y (dependent var from the dataset) and y_hat,\n",
    "predicted output (y_hat)  \n",
    "Note, y is your dependent variable from the dataset and y_hat is the predicted output.  \n",
    "Note, make sure you return the coeffs, intercept, r-squared score, y_hat in this order!   \n",
    "Record your polynomial equation for each of the degrees.  You will be required to  upload your equation in the accompanying assignment.  \n",
    "Hint:  https://scikit-learn.org/stable/modules/generated/sklearn.preprocessing.PolynomialFeatures.html  \n",
    "Hint:  https://scikit-learn.org/stable/modules/generated/sklearn.preprocessing.StandardScaler.html#sklearn.preprocessing.StandardScaler.fit_transform  \n",
    "Hint:  https://scikit-learn.org/stable/modules/generated/sklearn.preprocessing.StandardScaler.html#sklearn.preprocessing.StandardScaler.fit  \n",
    "Hint:  https://scikit-learn.org/stable/modules/generated/sklearn.linear_model.LinearRegression.html#sklearn.linear_model.LinearRegression.predict  \n",
    "Hint:  https://scikit-learn.org/stable/modules/generated/sklearn.metrics.r2_score.html  \n",
    "- **Step 6**:  Call your function from Step 4 for the degrees 1,2,3,4 and print out your results (coeffs, intercept, r2 score).  \n",
    "Create a plot of the input dataset and the prediction line for each of the degrees (4 plots).  \n",
    "Take a screenshot of your results and plots, you will upload them in the accompanying assignment.\n",
    "- **Step 7**: Run the embedded doctest module.  \n",
    "Record the output to confirm all your tests passed."
   ]
  },
  {
   "cell_type": "code",
   "execution_count": 2,
   "metadata": {
    "id": "9s4BVJBx3OF5"
   },
   "outputs": [],
   "source": [
    "#Step 1\n",
    "#Upload the dataset file weatherDataP.csv file to your Google Drive.\n",
    "#Mount your drive and change to the folder. \n",
    "#Note if get ERROR:root:Internal Python error in the inspect module error when trying to mount drive, restart runtime\n",
    "\n",
    "# Mount drive \n",
    "#from google.colab import drive\n",
    "#drive.mount('/content/drive/', force_remount=True)\n",
    "# cd (change directory) to the folder which contains the dataset\n",
    "# YOUR CODE HERE...\n",
    "#%cd /content/drive/MyDrive/your_folder_path/"
   ]
  },
  {
   "cell_type": "code",
   "execution_count": 16,
   "metadata": {
    "id": "O14nu17D3iAf"
   },
   "outputs": [
    {
     "name": "stdout",
     "output_type": "stream",
     "text": [
      "   Pressure (millibars)  Humidity\n",
      "0               1014.40      0.62\n",
      "1               1014.20      0.66\n",
      "2               1014.47      0.79\n",
      "3               1014.45      0.82\n",
      "4               1014.49      0.83\n",
      "       Pressure (millibars)  Humidity\n",
      "count             25.000000   25.0000\n",
      "mean            1011.481600    0.5932\n",
      "std                2.873799    0.1590\n",
      "min             1007.260000    0.3600\n",
      "25%             1008.360000    0.4600\n",
      "50%             1012.220000    0.5900\n",
      "75%             1014.240000    0.7200\n",
      "max             1014.520000    0.8500\n"
     ]
    }
   ],
   "source": [
    "#Note if get ERROR:root:Internal Python error in the inspect module error when trying to mount drive, restart runtime\n",
    "#If restarted runtime, then execute previous cell!!\n",
    "import pandas as pd\n",
    "from sklearn.preprocessing import PolynomialFeatures\n",
    "from sklearn.linear_model import LinearRegression\n",
    "from sklearn import preprocessing\n",
    "import matplotlib.pyplot as plt\n",
    "from sklearn.metrics import r2_score\n",
    "\n",
    "\n",
    "#Step 2\n",
    "#Create a Pandas table called 'weather' and read the dataset (weatherDataP.csv)\n",
    "#Print out the first several rows\n",
    "#Hint: https://pandas.pydata.org/pandas-docs/stable/reference/api/pandas.read_csv.html\n",
    "#Hint: https://pandas.pydata.org/pandas-docs/stable/reference/api/pandas.DataFrame.head.html \n",
    "#Hint: https://pandas.pydata.org/docs/reference/api/pandas.DataFrame.describe.html\n",
    "# YOUR CODE HERE...\n",
    "\n",
    "\n",
    "# Read the dataset\n",
    "weather = pd.read_csv('./weatherDataP.csv')\n",
    "\n",
    "# Print the first several rows\n",
    "print(weather.head())\n",
    "\n",
    "# Print summary statistics\n",
    "print(weather.describe())\n"
   ]
  },
  {
   "cell_type": "code",
   "execution_count": 17,
   "metadata": {},
   "outputs": [],
   "source": [
    "#Step 3:  Read in the data feature independent variables (X), and the dependent variable Humidity (y)\n",
    "#         from your Pandas 'weather' table.\n",
    "# YOUR CODE HERE...\n",
    "\n",
    "X = weather['Pressure (millibars)'].values.reshape(-1, 1)  # Independent variable\n",
    "y = weather['Humidity'].values  # Dependent variable\n",
    "\n"
   ]
  },
  {
   "cell_type": "code",
   "execution_count": 18,
   "metadata": {},
   "outputs": [
    {
     "data": {
      "image/png": "[encoded data removed]",
      "text/plain": [
       "<Figure size 432x288 with 1 Axes>"
      ]
     },
     "metadata": {},
     "output_type": "display_data"
    }
   ],
   "source": [
    "#Step 4:  Examine the data (Humidity vs. Pressure) with Matplotlib\n",
    "#         You will need to upload a screenshot of the plot in the accompanying assignment.\n",
    "# YOUR CODE HERE...\n",
    "\n",
    "import matplotlib.pyplot as plt\n",
    "\n",
    "plt.scatter(X, y)\n",
    "plt.xlabel('Pressure')\n",
    "plt.ylabel('Humidity')\n",
    "plt.title('Humidity vs. Pressure')\n",
    "plt.show()\n",
    "\n"
   ]
  },
  {
   "cell_type": "code",
   "execution_count": 19,
   "metadata": {},
   "outputs": [],
   "source": [
    "#Step 5:  Create a function that generates a polynomial regression model for the input dataset.\n",
    "#         Your function must input the degree of the fit function (n)\n",
    "#         Your function must return a tuple of the following outputs IN THIS ORDER:\n",
    "#             polynomial coefficients, \n",
    "#             polynomial intercept, \n",
    "#             r-squared score between y (dependent var from the dataset) and y_hat,\n",
    "#             predicted output (y_hat), \n",
    "#             Note, y is your dependent variable from the dataset and y_hat is the predicted output.\n",
    "#         Note, make sure you return the coeffs, intercept, r-squared score, y_hat in this order!\n",
    "#         Record your polynomial equation for each of the degrees.  You will be required to \n",
    "#             upload your equation in the accompanying assignment.\n",
    "#         Hint:  https://scikit-learn.org/stable/modules/generated/sklearn.preprocessing.PolynomialFeatures.html\n",
    "#         Hint:  https://scikit-learn.org/stable/modules/generated/sklearn.preprocessing.StandardScaler.html#sklearn.preprocessing.StandardScaler.fit_transform\n",
    "#         Hint:  https://scikit-learn.org/stable/modules/generated/sklearn.preprocessing.StandardScaler.html#sklearn.preprocessing.StandardScaler.fit\n",
    "#         Hint:  https://scikit-learn.org/stable/modules/generated/sklearn.linear_model.LinearRegression.html#sklearn.linear_model.LinearRegression.predict\n",
    "#         Hint:  https://scikit-learn.org/stable/modules/generated/sklearn.metrics.r2_score.html\n",
    "def polyRegression(n):\n",
    "# YOUR CODE HERE...\n",
    "# Create polynomial features\n",
    "    poly_features = PolynomialFeatures(degree=n)\n",
    "    X_poly = poly_features.fit_transform(X)\n",
    "\n",
    "    # Perform linear regression\n",
    "    model = LinearRegression()\n",
    "    model.fit(X_poly, y)\n",
    "\n",
    "    # Predict the output\n",
    "    y_pred = model.predict(X_poly)\n",
    "\n",
    "    # Calculate R-squared score\n",
    "    r2 = r2_score(y, y_pred)\n",
    "\n",
    "    return model.coef_, model.intercept_, r2, y_pred\n",
    "\n",
    "\n"
   ]
  },
  {
   "cell_type": "code",
   "execution_count": 27,
   "metadata": {},
   "outputs": [
    {
     "name": "stdout",
     "output_type": "stream",
     "text": [
      "Degree 1 Coeffs: [0.         0.03057561]\n",
      "Degree 1 Intercept: -30.333470210706807\n",
      "Degree 1 Score: 0.3053999552048746\n",
      "\n",
      "Degree 2 Coeffs: [ 0.00000000e+00 -5.77225454e+01  2.85583573e-02]\n",
      "Degree 2 Intercept: 29167.746043604795\n",
      "Degree 2 Score: 0.8616233381720982\n",
      "\n",
      "Degree 3 Coeffs: [ 0.00000000e+00  8.12324588e+03 -8.06389419e+00  2.66828921e-03]\n",
      "Degree 3 Intercept: -2727640.538321711\n",
      "Degree 3 Score: 0.8777508328123192\n",
      "\n",
      "Degree 4 Coeffs: [ 0.00000000e+00  5.87846777e-03  3.99351567e+00 -5.28588734e-03\n",
      "  1.96773530e-06]\n",
      "Degree 4 Intercept: -675369.133122779\n",
      "Degree 4 Score: 0.8777798578447106\n",
      "\n"
     ]
    }
   ],
   "source": [
    "#Step 6:  Call your function from Step 4 for the degrees 1,2,3,4 and print out your results (coeffs, intercept, r2 score).\n",
    "#         Also create a plot of the input dataset and the prediction line for each of the degrees (4 plots)\n",
    "#         Take a screenshot of your results and plots, you will upload them in the accompanying assignment.\n",
    "# YOUR CODE HERE...\n",
    "\n",
    "degree_1 = polyRegression(1)\n",
    "degree_2 = polyRegression(2)\n",
    "degree_3 = polyRegression(3)\n",
    "degree_4 = polyRegression(4)\n",
    "\n",
    "# Print the results\n",
    "print('Degree 1 Coeffs:', degree_1[0])\n",
    "print('Degree 1 Intercept:', degree_1[1])\n",
    "print('Degree 1 Score:', degree_1[2])\n",
    "print()\n",
    "\n",
    "print('Degree 2 Coeffs:', degree_2[0])\n",
    "print('Degree 2 Intercept:', degree_2[1])\n",
    "print('Degree 2 Score:', degree_2[2])\n",
    "print()\n",
    "\n",
    "print('Degree 3 Coeffs:', degree_3[0])\n",
    "print('Degree 3 Intercept:', degree_3[1])\n",
    "print('Degree 3 Score:', degree_3[2])\n",
    "print()\n",
    "\n",
    "print('Degree 4 Coeffs:', degree_4[0])\n",
    "print('Degree 4 Intercept:', degree_4[1])\n",
    "print('Degree 4 Score:', degree_4[2])\n",
    "print()\n",
    " "
   ]
  },
  {
   "cell_type": "code",
   "execution_count": 24,
   "metadata": {},
   "outputs": [
    {
     "ename": "IndexError",
     "evalue": "list index out of range",
     "output_type": "error",
     "traceback": [
      "\u001b[1;31m---------------------------------------------------------------------------\u001b[0m",
      "\u001b[1;31mIndexError\u001b[0m                                Traceback (most recent call last)",
      "\u001b[1;32m<ipython-input-24-9c6435111811>\u001b[0m in \u001b[0;36m<module>\u001b[1;34m()\u001b[0m\n\u001b[0;32m      4\u001b[0m \u001b[1;33m\u001b[0m\u001b[0m\n\u001b[0;32m      5\u001b[0m \u001b[1;31m# Plot the prediction line for each degree\u001b[0m\u001b[1;33m\u001b[0m\u001b[1;33m\u001b[0m\u001b[0m\n\u001b[1;32m----> 6\u001b[1;33m \u001b[0mplt\u001b[0m\u001b[1;33m.\u001b[0m\u001b[0mplot\u001b[0m\u001b[1;33m(\u001b[0m\u001b[0mX\u001b[0m\u001b[1;33m,\u001b[0m \u001b[0mdegree_1\u001b[0m\u001b[1;33m[\u001b[0m\u001b[1;36m3\u001b[0m\u001b[1;33m]\u001b[0m\u001b[1;33m,\u001b[0m \u001b[0mcolor\u001b[0m\u001b[1;33m=\u001b[0m\u001b[1;34m'red'\u001b[0m\u001b[1;33m,\u001b[0m \u001b[0mlabel\u001b[0m\u001b[1;33m=\u001b[0m\u001b[1;34m'Degree 1'\u001b[0m\u001b[1;33m)\u001b[0m\u001b[1;33m\u001b[0m\u001b[0m\n\u001b[0m\u001b[0;32m      7\u001b[0m \u001b[0mplt\u001b[0m\u001b[1;33m.\u001b[0m\u001b[0mplot\u001b[0m\u001b[1;33m(\u001b[0m\u001b[0mX\u001b[0m\u001b[1;33m,\u001b[0m \u001b[0mdegree_2\u001b[0m\u001b[1;33m[\u001b[0m\u001b[1;36m3\u001b[0m\u001b[1;33m]\u001b[0m\u001b[1;33m,\u001b[0m \u001b[0mcolor\u001b[0m\u001b[1;33m=\u001b[0m\u001b[1;34m'green'\u001b[0m\u001b[1;33m,\u001b[0m \u001b[0mlabel\u001b[0m\u001b[1;33m=\u001b[0m\u001b[1;34m'Degree 2'\u001b[0m\u001b[1;33m)\u001b[0m\u001b[1;33m\u001b[0m\u001b[0m\n\u001b[0;32m      8\u001b[0m \u001b[0mplt\u001b[0m\u001b[1;33m.\u001b[0m\u001b[0mplot\u001b[0m\u001b[1;33m(\u001b[0m\u001b[0mX\u001b[0m\u001b[1;33m,\u001b[0m \u001b[0mdegree_3\u001b[0m\u001b[1;33m[\u001b[0m\u001b[1;36m3\u001b[0m\u001b[1;33m]\u001b[0m\u001b[1;33m,\u001b[0m \u001b[0mcolor\u001b[0m\u001b[1;33m=\u001b[0m\u001b[1;34m'blue'\u001b[0m\u001b[1;33m,\u001b[0m \u001b[0mlabel\u001b[0m\u001b[1;33m=\u001b[0m\u001b[1;34m'Degree 3'\u001b[0m\u001b[1;33m)\u001b[0m\u001b[1;33m\u001b[0m\u001b[0m\n",
      "\u001b[1;31mIndexError\u001b[0m: list index out of range"
     ]
    },
    {
     "data": {
      "image/png": "[encoded data removed]",
      "text/plain": [
       "<Figure size 432x288 with 1 Axes>"
      ]
     },
     "metadata": {},
     "output_type": "display_data"
    }
   ],
   "source": [
    "plt.scatter(X, y, label='Actual data')\n",
    "plt.xlabel('Pressure')\n",
    "plt.ylabel('Humidity')\n",
    "\n",
    "# Plot the prediction line for each degree\n",
    "plt.plot(X, degree_1[3], color='red', label='Degree 1')\n",
    "plt.plot(X, degree_2[3], color='green', label='Degree 2')\n",
    "plt.plot(X, degree_3[3], color='blue', label='Degree 3')\n",
    "plt.plot(X, degree_4[3], color='orange', label='Degree 4')\n",
    "\n",
    "plt.legend()\n",
    "plt.title('Humidity vs. Pressure with Polynomial Regression')\n",
    "plt.show()\n"
   ]
  },
  {
   "cell_type": "code",
   "execution_count": 31,
   "metadata": {},
   "outputs": [
    {
     "name": "stdout",
     "output_type": "stream",
     "text": [
      "**********************************************************************\n",
      "File \"__main__\", line 5, in __main__\n",
      "Failed example:\n",
      "    print('Degree 2 Intercept:', polyRegDegree2[1])\n",
      "Expected:\n",
      "    Degree 2 Intercept: [29167.74604361]\n",
      "Got:\n",
      "    Degree 2 Intercept: 29167.746043604795\n",
      "**********************************************************************\n",
      "File \"__main__\", line 7, in __main__\n",
      "Failed example:\n",
      "    print('Degree 2 Score:', polyRegDegree2[2])\n",
      "Expected:\n",
      "    Degree 2 Score: 0.8616233381649783\n",
      "Got:\n",
      "    Degree 2 Score: 0.8616233381720982\n",
      "**********************************************************************\n",
      "File \"__main__\", line 11, in __main__\n",
      "Failed example:\n",
      "    print('Degree 3 Intercept:', polyRegDegree3[1])\n",
      "Expected:\n",
      "    Degree 3 Intercept: [-2727640.53926199]\n",
      "Got:\n",
      "    Degree 3 Intercept: -2727640.538321711\n",
      "**********************************************************************\n",
      "File \"__main__\", line 13, in __main__\n",
      "Failed example:\n",
      "    print('Degree 3 Score:', polyRegDegree3[2])\n",
      "Expected:\n",
      "    Degree 3 Score: 0.8777508325098228\n",
      "Got:\n",
      "    Degree 3 Score: 0.8777508328123192\n",
      "**********************************************************************\n",
      "1 items had failures:\n",
      "   4 of   6 in __main__\n",
      "***Test Failed*** 4 failures.\n"
     ]
    },
    {
     "data": {
      "text/plain": [
       "TestResults(failed=4, attempted=6)"
      ]
     },
     "execution_count": 31,
     "metadata": {},
     "output_type": "execute_result"
    }
   ],
   "source": [
    "#Step 7:  Run the following doctest module.\n",
    "#         Note, do not modify any of the code below this line.\n",
    "#         Record the output to confirm all your tests passed.\n",
    "import doctest\n",
    "polyRegDegree2 = polyRegression(2)\n",
    "polyRegDegree3 = polyRegression(3)\n",
    "\"\"\"\n",
    "  >>> print('Degree 2 Coeffs:', polyRegDegree2[0])\n",
    "  Degree 2 Coeffs: [ 0.00000000e+00 -5.77225454e+01  2.85583573e-02]\n",
    "  >>> print('Degree 2 Intercept:', polyRegDegree2[1])\n",
    "  Degree 2 Intercept: [29167.74604361]\n",
    "  >>> print('Degree 2 Score:', polyRegDegree2[2])\n",
    "  Degree 2 Score: 0.8616233381649783\n",
    "  >>> print('Degree 3 Coeffs:', polyRegDegree3[0])\n",
    "  Degree 3 Coeffs: [ 0.00000000e+00  8.12324588e+03 -8.06389419e+00  2.66828921e-03]\n",
    "  >>> print('Degree 3 Intercept:', polyRegDegree3[1])\n",
    "  Degree 3 Intercept: [-2727640.53926199]\n",
    "  >>> print('Degree 3 Score:', polyRegDegree3[2])\n",
    "  Degree 3 Score: 0.8777508325098228\n",
    "\"\"\"\n",
    "\n",
    "doctest.testmod()\n"
   ]
  },
  {
   "cell_type": "code",
   "execution_count": null,
   "metadata": {},
   "outputs": [],
   "source": []
  },
  {
   "cell_type": "code",
   "execution_count": null,
   "metadata": {},
   "outputs": [],
   "source": []
  }
 ],
 "metadata": {
  "colab": {
   "provenance": []
  },
  "kernelspec": {
   "display_name": "Python 3",
   "language": "python",
   "name": "python3"
  },
  "language_info": {
   "codemirror_mode": {
    "name": "ipython",
    "version": 3
   },
   "file_extension": ".py",
   "mimetype": "text/x-python",
   "name": "python",
   "nbconvert_exporter": "python",
   "pygments_lexer": "ipython3",
   "version": "3.6.5"
  }
 },
 "nbformat": 4,
 "nbformat_minor": 1
}
