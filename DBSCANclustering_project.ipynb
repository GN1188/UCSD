{
 "cells": [
  {
   "cell_type": "markdown",
   "metadata": {
    "id": "y4Qweqd0-4G6"
   },
   "source": [
    "**Copyright: © NexStream Technical Education, LLC**.  \n",
    "All rights reserved"
   ]
  },
  {
   "cell_type": "markdown",
   "metadata": {
    "id": "8L4hGclChU1_"
   },
   "source": [
    "#DBSCAN - From scratch version:  Part A\n",
    "Create the class DBSCAN and the following functions:\n",
    "- Constructor:    \n",
    " - def __init__(self):  (provided)\n",
    "-   Methods\n",
    " - def find_neighborhood_points(self, data, eps):\n",
    " - def find_point_labels(self, data, list_of_neighbors, minpts):\n",
    " - def find_point_labels(self, data, list_of_neighbors, minpts):\n",
    " - def expand_clusters(self, point_label, list_of_neighbors ):\n",
    " - def plot_clusters(self, data, labels, num_clusters):\n",
    "\n",
    "\n",
    "To calculate distances, numpy.linalg.norm can be used:  \n",
    "Recall:  $$||v||_p = \\sum_i(|v_i|^p)^\\frac{1}{p}$$  \n",
    "\n",
    "L2 Norm = Euclidean Norm:  $$ ||v||_2 = \\sum_i(|v_i|^2)^\\frac{1}{2}$$  \n",
    "\n",
    "So to find the Euclidean Distance:  $$ ||v||_2 = \\sum_i(|d_1 - d_2|^2)^\\frac{1}{2}$$ \n",
    "\n",
    "<br>\n",
    "\n",
    "See the code cell below for implementation hints.\n",
    "\n",
    "\n",
    "---\n",
    "\n"
   ]
  },
  {
   "cell_type": "code",
   "execution_count": null,
   "metadata": {
    "id": "gE0tmzx8Kc7E"
   },
   "outputs": [],
   "source": [
    "import numpy as np\n",
    "import collections\n",
    "import matplotlib.pyplot as plt\n",
    "import queue\n",
    "import scipy.io as spio\n",
    "\n",
    "class DBSCAN:\n",
    "  def __init__(self):\n",
    "    self.noise = 0\n",
    "    self.core = -1\n",
    "    self.border = -2\n",
    "\n",
    "  def find_neighborhood_points(self, data, eps):\n",
    "    #Create a list of neighbor points within eps of an input point\n",
    "    #Calculate the Euclidean distance (L2 norm) and check if < eps\n",
    "    #input:  data:  pre-clustered dataset, eps:  epsilon == radius of neighborhood \n",
    "    #return  list_of_neighbors:  list of points within eps of central point\n",
    "    #                            contains a list for each data point index\n",
    "    #Hint:  https://numpy.org/doc/stable/reference/generated/numpy.linalg.norm.html \n",
    "\n",
    "    #Create a numpy array of the list of neighbors\n",
    "    #Use numpy.asarray to avoid ragged list deprecated warnings\n",
    "    #YOUR CODE HERE\n",
    "\n",
    "    #       Loop over data to get a central point (core point candidate)\n",
    "    #         Create list of points within eps of the current data point\n",
    "    #         Loop over data to check all other points in dataset\n",
    "    #           if central point to other data point distance <= eps\n",
    "    #             add to list of points with eps of current data point\n",
    "    #         append to list_of_neighbors      \n",
    "    #YOUR CODE HERE\n",
    "    return list_of_neighbors\n",
    "\n",
    "\n",
    "  def find_point_labels(self, data, list_of_neighbors, minpts):\n",
    "    #Label all core, border, and noise points\n",
    "    #See constructor for defintion of the core, border and noise labels\n",
    "    #input:  data:  pre-clustered dataset, \n",
    "    #        list_of_neighbors:  list of neighborhood points for each data point \n",
    "    #        minpts:  minimum number of points within eps to be considered a core point\n",
    "    #return: core_point:  list of points labeled as core points\n",
    "    #        noncore_point:  list of points labeled as noncore points\n",
    "    #        point_label:  list of labels applied to points in dataset \n",
    "    #                      prior to extending points in a cluster\n",
    "    #Hint:   Create lists for core_point, noncore_point, point_label\n",
    "    #        Loop over list_of_neighbors\n",
    "    #           if list of neighbors size > minpts\n",
    "    #             point_label is core for this data point\n",
    "    #             append data index to core_point list\n",
    "    #           else\n",
    "    #             point_label is noncore for this data point\n",
    "    #             append data index to noncore_point list\n",
    "    #        Loop over noncore_point \n",
    "    #           For each point in list_of_neighbors\n",
    "    #             if point is in core_point list\n",
    "    #                point_label is border for this data point      \n",
    "    #YOUR CODE HERE\n",
    "    return core_point, noncore_point, point_label\n",
    "\n",
    "\n",
    "  def expand_clusters(self, point_label, list_of_neighbors ):\n",
    "    #Expand cluster to include border points\n",
    "    #See constructor for defintion of the core, border and noise labels\n",
    "    #input:  point_label:  list of labels applied to points in dataset \n",
    "    #                      prior to extending points in a cluster\n",
    "    #        list_of_neighbors:  list of points within eps of central point\n",
    "    #return: point_label:  list of labels applied to points in dataset\n",
    "    #                      after extending cluster to include border points\n",
    "    #        cluster_number:  total number of clusters found\n",
    "    #Hints:\n",
    "    #   init cluster_number - start at 1\n",
    "    #   loop over point_label\n",
    "    #     initialize a Python Queue\n",
    "    #     if point_label == core \n",
    "    #       update point_label with current cluster number\n",
    "    #       loop over list_of_neighbors \n",
    "    #         if point_label == core\n",
    "    #           add to Queue to consider extending further \n",
    "    #               (can only extend core points)\n",
    "    #           update point label with current cluster number\n",
    "    #         else if point_label == border\n",
    "    #           update point label with current cluster number\n",
    "    #           note, do NOT add to Queue since do not extend border points\n",
    "    #       loop as long as Queue is not empty\n",
    "    #         get list_of_neighbors of point popped from Queue\n",
    "    #         loop over list_of_neighbors\n",
    "    #           if point_label == core\n",
    "    #             add to Queue to consider extending further \n",
    "    #             update point label with current cluster number\n",
    "    #           else if point_label == border\n",
    "    #             update point label with current cluster number\n",
    "    #       increment cluster number\n",
    "    #YOUR CODE HERE\n",
    "    return point_label, cluster_number\n",
    "\n",
    "  def plot_clusters(self, data, labels, num_clusters):\n",
    "    #Generate a color-coded plot of the clusters \n",
    "    #Color code each cluster and the noise (outlier) points\n",
    "    #input:  data:  pre-clustered dataset, \n",
    "    #        labels:  list of integer labels for clusters (0: noise, 1-n: clusters 1-n)\n",
    "    #        num_clusters:  number of clusters found\n",
    "    #return: None\n",
    "    #Hint:  loop over num_clusters\n",
    "    #       choose from a list of clusters for each cluster number\n",
    "    #       display on scatterplot\n",
    "    #YOUR CODE HERE\n",
    "\n",
    "#Run the doctest module.  DO NOT modify any code below this line!\n",
    "import doctest\n",
    "\n",
    "X = np.array([[1,9],[3,1],[4,13],[6,11],\n",
    "              [7,12],[7,15],[8,13],[8,11],\n",
    "              [7,10],[8,9],[10,9],[8,13],\n",
    "              [8,12],[9,13],[9,8],[9,14],\n",
    "              [10,9],[11,10],[8,8],[9,10],\n",
    "              [10,6],[10,11],[10,12],[11,13],\n",
    "              [10,7],[11,8],[11,9],[12,9],\n",
    "              [12,5],[12,7],[12,15], [12,16],\n",
    "              [13,8],[13,6],[13,17],[14,5],\n",
    "              [14,7],[15,3],[15,5],[15,10],\n",
    "              [15,12],[15,14],[16,6],[16,10],\n",
    "              [16,11],[16,13],[17,3],[17,5],\n",
    "              [18,6],[18,10],[19,12],[20,11],\n",
    "              [26,9]])\n",
    "dbs = DBSCAN()\n",
    "point_neighbors = dbs.find_neighborhood_points(X, 2)\n",
    "core_points, noncore_points, point_labels_preextend = dbs.find_point_labels(X, point_neighbors, 4)\n",
    "point_labels_preextend_doctest = point_labels_preextend.copy()\n",
    "point_labels, num_clusters = dbs.expand_clusters(point_labels_preextend, point_neighbors)\n",
    "dbs.plot_clusters(X, point_labels, num_clusters)\n",
    "\n",
    "\"\"\"\n",
    "   >>> print(point_neighbors)\n",
    "   [[0], [1], [2], [3, 4, 7, 8], [3, 4, 6, 7, 8, 11, 12], [5], [4, 6, 7, 11, 12, 13, 15], [3, 4, 6, 7, 8, 9, 11, 12, 19, 21], [3, 4, 7, 8, 9, 19], [7, 8, 9, 10, 14, 16, 18, 19], [9, 10, 14, 16, 17, 19, 21, 24, 25, 26, 27], [4, 6, 7, 11, 12, 13, 15], [4, 6, 7, 11, 12, 13, 22], [6, 11, 12, 13, 15, 22, 23], [9, 10, 14, 16, 18, 19, 24, 25], [6, 11, 13, 15], [9, 10, 14, 16, 17, 19, 21, 24, 25, 26, 27], [10, 16, 17, 19, 21, 25, 26, 27], [9, 14, 18], [7, 8, 9, 10, 14, 16, 17, 19, 21], [20, 24], [7, 10, 16, 17, 19, 21, 22], [12, 13, 21, 22, 23], [13, 22, 23], [10, 14, 16, 20, 24, 25, 29], [10, 14, 16, 17, 24, 25, 26, 27, 29, 32], [10, 16, 17, 25, 26, 27], [10, 16, 17, 25, 26, 27, 29, 32], [28, 29, 33, 35], [24, 25, 27, 28, 29, 32, 33, 36], [30, 31], [30, 31, 34], [25, 27, 29, 32, 33, 36], [28, 29, 32, 33, 35, 36], [31, 34], [28, 33, 35, 36, 38], [29, 32, 33, 35, 36], [37, 38, 46], [35, 37, 38, 42, 47], [39, 40, 43, 44], [39, 40, 41, 44, 45], [40, 41, 45], [38, 42, 47, 48], [39, 43, 44, 49], [39, 40, 43, 44, 45], [40, 41, 44, 45], [37, 46, 47], [38, 42, 46, 47, 48], [42, 47, 48], [43, 49], [50, 51], [50, 51], [52]]\n",
    "   >>> print(core_points)\n",
    "   [3, 4, 6, 7, 8, 9, 10, 11, 12, 13, 14, 15, 16, 17, 19, 21, 22, 24, 25, 26, 27, 28, 29, 32, 33, 35, 36, 38, 39, 40, 42, 43, 44, 45, 47]\n",
    "   >>> print(noncore_points)\n",
    "   [0, 1, 2, 5, 18, 20, 23, 30, 31, 34, 37, 41, 46, 48, 49, 50, 51, 52]\n",
    "   >>> print(point_labels_preextend_doctest)\n",
    "   [0, 0, 0, -1, -1, 0, -1, -1, -1, -1, -1, -1, -1, -1, -1, -1, -1, -1, -2, -1, -2, -1, -1, -2, -1, -1, -1, -1, -1, -1, 0, 0, -1, -1, 0, -1, -1, -2, -1, -1, -1, -2, -1, -1, -1, -1, -2, -1, -2, -2, 0, 0, 0]\n",
    "   >>> print(point_labels)\n",
    "   [0, 0, 0, 1, 1, 0, 1, 1, 1, 1, 1, 1, 1, 1, 1, 1, 1, 1, 1, 1, 1, 1, 1, 1, 1, 1, 1, 1, 1, 1, 0, 0, 1, 1, 0, 1, 1, 1, 1, 2, 2, 2, 1, 2, 2, 2, 1, 1, 1, 2, 0, 0, 0]\n",
    "   >>> print(num_clusters)\n",
    "   3\n",
    "\"\"\"\n",
    "doctest.testmod()\n"
   ]
  },
  {
   "cell_type": "markdown",
   "metadata": {
    "id": "OD9dR92nO9v9"
   },
   "source": [
    "#DBSCAN - From scratch version:  Part B\n",
    "Extend your model to different combinations of eps and minpts.\n",
    "Evaluate and comment on your results."
   ]
  },
  {
   "cell_type": "code",
   "execution_count": null,
   "metadata": {
    "id": "SWq5L-U_PZFS"
   },
   "outputs": [],
   "source": [
    "#Use your dataset and class methods from Part A to evaluate different values for eps and minpts.\n",
    "#YOUR CODE HERE\n"
   ]
  },
  {
   "cell_type": "markdown",
   "metadata": {
    "id": "I4lY2TTANCR-"
   },
   "source": [
    "\n",
    "#DBSCAN - From scratch version:  Part C\n",
    "Evaluate the performance using Mean Silhouette Coefficient\n",
    "If the true cluster labels are unknown, the model itself can be used to evaluate performance using the Silhouette Coefficient.\n",
    "\n",
    "The Silhouette Coefficient range is [-1, 1], with best value == 1 and worst == -1.  A higher score indicates that the model has well defined and more dense clusters. Values close to 0 indicate overlapping clusters, while negative values usually indicate that data points have been assigned to the wrong clusters. \n",
    "Ref paper:  [Silhouettes: A graphical aid to the interpretation and validation of cluster analysis](https://www.sciencedirect.com/science/article/pii/0377042787901257?via%3Dihub)\n",
    "<br>\n",
    "<br>\n",
    "\n",
    "># $s=\\frac{b-a}{max(b-a)}$\n",
    "\n",
    "\n",
    "<br>\n",
    "where:  \n",
    "\n",
    "- a: The average distance between one data point and all other points in the same cluster\n",
    "- b: The average distance between one data point and all other points in the next nearest cluster.\n",
    "\n",
    "Hint:  \n",
    "See https://scikit-learn.org/stable/modules/generated/sklearn.metrics.silhouette_score.html for more information on the silhouette score.\n"
   ]
  },
  {
   "cell_type": "code",
   "execution_count": null,
   "metadata": {
    "id": "Dy4OZPDXPuRb"
   },
   "outputs": [],
   "source": [
    "#Use your dataset and class methods from Part A and your modified hyperparameters \n",
    "#from Part B to score the clustering performance.\n",
    "#YOUR CODE HERE"
   ]
  },
  {
   "cell_type": "markdown",
   "metadata": {
    "id": "amKF1kfsKLnP"
   },
   "source": [
    "#DBSCAN - Using scikit-learn\n",
    "\n",
    "**Part A:**  \n",
    "Implement the following:\n",
    "- Create a \"make_moons\" dataset with with 500 samples and noise = 0.1\n",
    "- Plot the unclustered dataset on a scatterplot\n",
    "- Cluster the dataset using sklearn with eps=0.15, min_samples=10\n",
    "- Print out the number of clusters, number of noise points, and cluster labels\n",
    "- Plot the clustered dataset with color-coded clusters\n",
    "- Run and printout the silhouette score\n",
    "\n",
    "\n",
    "**Part B:**  \n",
    "Implement the following:\n",
    "- Create a \"make_blobs\" dataset with with 100 samples and std deviation = 0.9\n",
    "- Plot the unclustered dataset on a scatterplot\n",
    "- Cluster the dataset using sklearn with eps=1, min_samples=10\n",
    "- Print out the number of clusters, number of noise points, and cluster labels\n",
    "- Plot the clustered dataset with color-coded clusters\n",
    "- Run and printout the silhouette score\n",
    "\n"
   ]
  },
  {
   "cell_type": "code",
   "execution_count": null,
   "metadata": {
    "id": "7fWWV15qeQXx"
   },
   "outputs": [],
   "source": [
    "#Part A:  YOUR CODE HERE"
   ]
  },
  {
   "cell_type": "code",
   "execution_count": null,
   "metadata": {
    "id": "s-7NR5x-eUtJ"
   },
   "outputs": [],
   "source": [
    "#Part B:  YOUR CODE HERE"
   ]
  }
 ],
 "metadata": {
  "colab": {
   "collapsed_sections": [
    "OD9dR92nO9v9",
    "I4lY2TTANCR-",
    "amKF1kfsKLnP"
   ],
   "provenance": []
  },
  "kernelspec": {
   "display_name": "Python 3",
   "language": "python",
   "name": "python3"
  },
  "language_info": {
   "codemirror_mode": {
    "name": "ipython",
    "version": 3
   },
   "file_extension": ".py",
   "mimetype": "text/x-python",
   "name": "python",
   "nbconvert_exporter": "python",
   "pygments_lexer": "ipython3",
   "version": "3.6.5"
  }
 },
 "nbformat": 4,
 "nbformat_minor": 1
}
